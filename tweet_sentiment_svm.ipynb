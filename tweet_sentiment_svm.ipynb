{
 "cells": [
  {
   "cell_type": "code",
   "execution_count": null,
   "source": [],
   "outputs": [],
   "metadata": {}
  },
  {
   "cell_type": "code",
   "execution_count": 26,
   "source": [
    "import pandas as pd\r\n",
    "import re\r\n",
    "import numpy as np\r\n",
    "import sklearn\r\n",
    "from sklearn.model_selection import train_test_split\r\n",
    "from sklearn.linear_model import LogisticRegression\r\n",
    "from sklearn.naive_bayes import MultinomialNB\r\n",
    "from sklearn.svm import LinearSVC\r\n",
    "from sklearn.ensemble import RandomForestClassifier\r\n",
    "from sklearn.model_selection import GridSearchCV\r\n",
    "from sklearn.feature_extraction.text import TfidfVectorizer\r\n",
    "import utils\r\n"
   ],
   "outputs": [],
   "metadata": {}
  },
  {
   "cell_type": "code",
   "execution_count": 11,
   "source": [
    "trainData = pd.read_csv(\"/Users/manis/Dropbox/research/2021/lrev/notebooks/sentiment_training_dataset.csv\",header=None, encoding = 'latin',names=[\"polarity\", \"id\", \"date\", \"flag\", \"user\", \"text\"])"
   ],
   "outputs": [],
   "metadata": {}
  },
  {
   "cell_type": "code",
   "execution_count": 32,
   "source": [
    "def preprocess_tweet(tweet):\r\n",
    "    tweet.lower()\r\n",
    "    tweet = re.sub('((www\\.[^\\s]+)|(https?://[^\\s]+))','URL',tweet)\r\n",
    "    tweet = re.sub('@[^\\s]+','AT_USER', tweet)\r\n",
    "    tweet = re.sub('[\\s]+', ' ', tweet)\r\n",
    "    tweet = re.sub(r'#([^\\s]+)', r'\\1', tweet)\r\n",
    "    return tweet\r\n",
    "\r\n",
    "def extract_features(tweet_dataset):\r\n",
    "    tfv=TfidfVectorizer(sublinear_tf=True, stop_words = \"english\") \r\n",
    "    features=tfv.fit_transform(np.array(tweet_dataset.text))\r\n",
    "    return features"
   ],
   "outputs": [],
   "metadata": {}
  },
  {
   "cell_type": "code",
   "execution_count": 42,
   "source": [
    "tweet_dataset = trainData.drop([\"id\",\"flag\",\"date\",\"user\"], axis = 1)\r\n",
    "tweet_dataset.polarity = tweet_dataset.polarity.replace(4,1)\r\n",
    "tweet_dataset['text'] = tweet_dataset['text'].apply(preprocess_tweet)\r\n"
   ],
   "outputs": [],
   "metadata": {}
  },
  {
   "cell_type": "code",
   "execution_count": 41,
   "source": [
    "# 'svm'\r\n",
    "X_train, X_test, y_train, y_test  = train_test_split(features, tweet_dataset.polarity, test_size=0.2, random_state=42)\r\n",
    "lr_model = LogisticRegression(C=1.)\r\n",
    "lr_model.fit(X_train, y_train)\r\n",
    "svm_model = LinearSVC(random_state=0, tol=1e-5, penalty='l2')\r\n",
    "svm_model.fit(X_train, y_train)\r\n",
    "print('SVM train acc :: ', svm_model.score(X_train, y_train[:,None]))\r\n",
    "print('SVM test acc :: ', svm_model.score(X_test, y_test[:,None]))\r\n"
   ],
   "outputs": [],
   "metadata": {}
  }
 ],
 "metadata": {
  "orig_nbformat": 4,
  "language_info": {
   "name": "python",
   "version": "3.8.8",
   "mimetype": "text/x-python",
   "codemirror_mode": {
    "name": "ipython",
    "version": 3
   },
   "pygments_lexer": "ipython3",
   "nbconvert_exporter": "python",
   "file_extension": ".py"
  },
  "kernelspec": {
   "name": "python3",
   "display_name": "Python 3.8.8 64-bit ('base': conda)"
  },
  "interpreter": {
   "hash": "0993227984ad8824c264444a38e824e4c951a7592d518f6e93ecdb2b05867cef"
  }
 },
 "nbformat": 4,
 "nbformat_minor": 2
}